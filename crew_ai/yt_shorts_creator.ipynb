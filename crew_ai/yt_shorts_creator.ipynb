{
  "nbformat": 4,
  "nbformat_minor": 0,
  "metadata": {
    "colab": {
      "provenance": [],
      "include_colab_link": true
    },
    "kernelspec": {
      "name": "python3",
      "display_name": "Python 3"
    },
    "language_info": {
      "name": "python"
    }
  },
  "cells": [
    {
      "cell_type": "markdown",
      "metadata": {
        "id": "view-in-github",
        "colab_type": "text"
      },
      "source": [
        "<a href=\"https://colab.research.google.com/github/harjeet88/A_For_Algorithms/blob/master/crew_ai/yt_shorts_creator.ipynb\" target=\"_parent\"><img src=\"https://colab.research.google.com/assets/colab-badge.svg\" alt=\"Open In Colab\"/></a>"
      ]
    },
    {
      "cell_type": "markdown",
      "source": [
        "### Install required pacakges\n"
      ],
      "metadata": {
        "id": "HV1DyBd2RHrN"
      }
    },
    {
      "cell_type": "code",
      "source": [
        "!pip install -q -U crewai\n",
        "!pip install -q -U duckduckgo-search\n",
        "!pip install -q -U crewai_tools"
      ],
      "metadata": {
        "id": "xOj-BuKARJrH"
      },
      "execution_count": 1,
      "outputs": []
    },
    {
      "cell_type": "markdown",
      "source": [
        "### Required Packages"
      ],
      "metadata": {
        "id": "nRv8-Ja1R8S6"
      }
    },
    {
      "cell_type": "code",
      "source": [
        "import os\n",
        "\n",
        "from crewai import Agent, Task, Crew, Process, LLM\n",
        "#from crewai_tools import tool"
      ],
      "metadata": {
        "id": "J9U8qs3aRLfh"
      },
      "execution_count": 3,
      "outputs": []
    },
    {
      "cell_type": "code",
      "source": [
        "from crewai.tools import BaseTool"
      ],
      "metadata": {
        "id": "aubRyJsaMZu8"
      },
      "execution_count": 9,
      "outputs": []
    },
    {
      "cell_type": "code",
      "source": [
        "from google.colab import userdata\n",
        "GOOGLE_API_KEY=userdata.get('GOOGLE_API_KEY')\n",
        "OPENAI_API_KEY=userdata.get('OPENAI_API_KEY')\n",
        "os.environ[\"GEMINI_API_KEY\"] = GOOGLE_API_KEY\n",
        "os.environ[\"GOOGLE_API_KEY\"] = GOOGLE_API_KEY\n",
        "if GOOGLE_API_KEY :\n",
        "  print(\"GOOGLE_API_KEY is set\")"
      ],
      "metadata": {
        "colab": {
          "base_uri": "https://localhost:8080/"
        },
        "id": "mCBq458Q9Ymn",
        "outputId": "a9d09df5-ddd9-4bb3-e5b4-ba695f275886"
      },
      "execution_count": 4,
      "outputs": [
        {
          "output_type": "stream",
          "name": "stdout",
          "text": [
            "GOOGLE_API_KEY is set\n"
          ]
        }
      ]
    },
    {
      "cell_type": "markdown",
      "source": [
        "### set up the LLM"
      ],
      "metadata": {
        "id": "251A9PjVT6s3"
      }
    },
    {
      "cell_type": "code",
      "source": [
        "from crewai import Agent, LLM\n",
        "\n",
        "gemini = LLM(\n",
        "    api_key=os.getenv(\"GEMINI_API_KEY\"),\n",
        "    model=\"gemini/gemini-2.5-flash\",\n",
        ")"
      ],
      "metadata": {
        "id": "NzWZHHmmHX5o"
      },
      "execution_count": 48,
      "outputs": []
    },
    {
      "cell_type": "code",
      "source": [
        "my_llm=gemini"
      ],
      "metadata": {
        "id": "DtYh4tiCT2cg"
      },
      "execution_count": 49,
      "outputs": []
    },
    {
      "cell_type": "markdown",
      "source": [
        "### setup tools"
      ],
      "metadata": {
        "id": "BSumWCcRUUDl"
      }
    },
    {
      "cell_type": "code",
      "metadata": {
        "id": "7805d468"
      },
      "source": [
        "!pip install --upgrade --quiet  langchain-community"
      ],
      "execution_count": 50,
      "outputs": []
    },
    {
      "cell_type": "code",
      "source": [
        "story_teller = Agent(\n",
        "    role = 'pro content creator for youtube shorts',\n",
        "    goal = '''Take the high level topic described here and prepare a very intresting and very engrosing story for a youtube video.\n",
        "    Story should be narrated within four minutes. strory should have intresting start and amzing end and should ensure listener is hooked throught story.\n",
        "    The python module must be completely self-contained, and ready so that it can be tested or have a simple UI built for it.\n",
        "    here is the topic: {topic}''',\n",
        "    backstory = '''You're a seasoned a seasoned story teller reknowned for compelling story telling''',\n",
        "    llm = my_llm,\n",
        "    verbose=True,\n",
        ")"
      ],
      "metadata": {
        "id": "DiaqNKjsT4jc"
      },
      "execution_count": 66,
      "outputs": []
    },
    {
      "cell_type": "code",
      "source": [
        "photographer = Agent(\n",
        "    role = 'you create very compelling photo with great detail',\n",
        "    goal = ''' you create photos based on story told by story teller and topic. you take for every 2 sentences in story, you create one photo which describe the scene in great detail.''',\n",
        "    backstory = '''You're a seasoned photo creater with a knack for creating amazingly attractive photos''',\n",
        "    llm = my_llm,\n",
        "    context=[story_teller],\n",
        "    verbose=True,\n",
        ")"
      ],
      "metadata": {
        "id": "YdtnFkm_Of4S"
      },
      "execution_count": 68,
      "outputs": []
    },
    {
      "cell_type": "markdown",
      "source": [
        "### Tasks to perform"
      ],
      "metadata": {
        "id": "dmdxvELxV6J1"
      }
    },
    {
      "cell_type": "code",
      "source": [
        "# Create tasks for your agents\n",
        "story_teller_task = Task(\n",
        "  description=\"\"\"Take the given topic {topic} and write a captivating YouTube video story that can be narrated in four minutes. The story must have an intriguing start, an engaging middle, and an amazing end. Structure the story into three labeled parts: 'Beginning', 'Middle', and 'End'. Also, provide a catchy title at the top. The entire output must be in plain text without any markdown\"\"\",\n",
        "  agent=backend_engineer,\n",
        "  verbose=True,\n",
        "  expected_output=\"\"\"Expected Output:\n",
        "\n",
        "A string in the following format:\n",
        "\n",
        "\"Title: [Title of the story]\n",
        "\n",
        "Beginning: [Text for the beginning]\n",
        "\n",
        "Middle: [Text for the middle]\n",
        "\n",
        "End: [Text for the end]\"\n",
        "\n",
        "The story should be approximately 500-600 words in total.\"\"\"\n",
        "\n",
        ")"
      ],
      "metadata": {
        "id": "9ZG9GxqWV0md"
      },
      "execution_count": 69,
      "outputs": []
    },
    {
      "cell_type": "code",
      "source": [
        "photographer_task = Task(\n",
        "  description=\"\"\"\"\"\",\n",
        "  agent=backend_engineer,\n",
        "  expected_output=\"\"\"A python module that implements the design and achieves the requirements.\n",
        "    IMPORTANT: Output ONLY the raw Python code without any markdown formatting, code block delimiters, or backticks.\n",
        "    The output should be valid Python code that can be directly saved to a file and executed.\"\"\",\n",
        "  context=[design_task],\n",
        "  output_file= \"output/{module_name}\"\n",
        ")"
      ],
      "metadata": {
        "id": "PpoGib_hWCtQ"
      },
      "execution_count": 56,
      "outputs": []
    },
    {
      "cell_type": "code",
      "source": [
        "frontend_task = Task(\n",
        "  description=\"\"\"Write a gradio UI in a module app.py that demonstrates the given backend class in {module_name}.\n",
        "    Assume there is only 1 user, and keep the UI very simple indeed - just a prototype or demo.\n",
        "    Here are the requirements: {requirements}\"\"\",\n",
        "  agent=frontend_engineer,\n",
        "  expected_output=\"\"\"A gradio UI in module app.py that demonstrates the given backend class.\n",
        "    The file should be ready so that it can be run as-is, in the same directory as the backend module, and it should import the backend class from {module_name}.\n",
        "    IMPORTANT: Output ONLY the raw Python code without any markdown formatting, code block delimiters, or backticks.\n",
        "    The output should be valid Python code that can be directly saved to a file and executed.\"\"\",\n",
        "  context=[code_task],\n",
        "  output_file= \"output/app.py\"\n",
        ")"
      ],
      "metadata": {
        "id": "TOuv3DEjQbWL"
      },
      "execution_count": 57,
      "outputs": []
    },
    {
      "cell_type": "code",
      "source": [
        "test_task = Task(\n",
        "  description=\"\"\"Write unit tests for the given backend module {module_name} and create a test_{module_name} in the same directory as the backend module.\"\"\",\n",
        "  agent=test_engineer,\n",
        "  expected_output=\"\"\"A test_{module_name} module that tests the given backend module.\n",
        "    IMPORTANT: Output ONLY the raw Python code without any markdown formatting, code block delimiters, or backticks.\n",
        "    The output should be valid Python code that can be directly saved to a file and executed.\"\"\",\n",
        "  context=[code_task],\n",
        "  output_file= \"output/test_{module_name}\"\n",
        ")"
      ],
      "metadata": {
        "id": "xY6Os0lYQ7Qv"
      },
      "execution_count": 58,
      "outputs": []
    },
    {
      "cell_type": "markdown",
      "source": [
        "### Create a Crew"
      ],
      "metadata": {
        "id": "yvjya2FzWR5m"
      }
    },
    {
      "cell_type": "code",
      "source": [
        "# Instantiate your crew with a sequential process\n",
        "crew = Crew(\n",
        "  agents=[story_teller],\n",
        "  tasks=[story_teller_task],\n",
        "  verbose=False, # You can set it to 1 or 2 to different logging levels\n",
        ")"
      ],
      "metadata": {
        "id": "yYykbGq2WRSP"
      },
      "execution_count": 70,
      "outputs": []
    },
    {
      "cell_type": "code",
      "source": [
        "crew"
      ],
      "metadata": {
        "colab": {
          "base_uri": "https://localhost:8080/"
        },
        "id": "xSBr8D6tWloT",
        "outputId": "efdc7aba-b421-43d6-8d91-be7765ace401"
      },
      "execution_count": 71,
      "outputs": [
        {
          "output_type": "execute_result",
          "data": {
            "text/plain": [
              "Crew(id=a2f90f7f-a2a1-4f12-9fcd-fb4d21ab835f, process=Process.sequential, number_of_agents=1, number_of_tasks=1)"
            ]
          },
          "metadata": {},
          "execution_count": 71
        }
      ]
    },
    {
      "cell_type": "markdown",
      "source": [
        "### Kickoff the crew - let the magic happen"
      ],
      "metadata": {
        "id": "-tjmzH9cXOaB"
      }
    },
    {
      "cell_type": "code",
      "source": [
        "topic = \"\"\" indian historical stories\n",
        "\"\"\"\n",
        "\n",
        "template_input = {\"topic\": topic}\n",
        "\n"
      ],
      "metadata": {
        "id": "P6fIpH0cSG20"
      },
      "execution_count": 72,
      "outputs": []
    },
    {
      "cell_type": "code",
      "source": [
        "# Get your crew to work!\n",
        "#result = crew.kickoff()\n",
        "result = crew.kickoff(inputs=template_input)"
      ],
      "metadata": {
        "colab": {
          "base_uri": "https://localhost:8080/"
        },
        "id": "VU3LdZmIWqQH",
        "outputId": "72faa414-3307-4aaa-d112-0c7f4d128c0b"
      },
      "execution_count": 73,
      "outputs": [
        {
          "output_type": "stream",
          "name": "stdout",
          "text": [
            "\u001b[1m\u001b[95m# Agent:\u001b[00m \u001b[1m\u001b[92mPython Engineer who can write code to achieve the design described by the engineering lead\u001b[00m\n",
            "\u001b[95m## Task:\u001b[00m \u001b[92mTake the given topic  indian historical stories\n",
            " and write a captivating YouTube video story that can be narrated in four minutes. The story must have an intriguing start, an engaging middle, and an amazing end. Structure the story into three labeled parts: 'Beginning', 'Middle', and 'End'. Also, provide a catchy title at the top. The entire output must be in plain text without any markdown\u001b[00m\n",
            "\n",
            "\n",
            "\u001b[1m\u001b[95m# Agent:\u001b[00m \u001b[1m\u001b[92mPython Engineer who can write code to achieve the design described by the engineering lead\u001b[00m\n",
            "\u001b[95m## Final Answer:\u001b[00m \u001b[92m\n",
            "Title: The Emperor's Conversion: Ashoka and the Tide of Blood\n",
            "\n",
            "Beginning:\n",
            "In the heart of ancient India, a shadow stretched across the land, cast by the ambition of Emperor Ashoka. He was a force of nature, a whirlwind of conquest, his empire already vast, yet his hunger for dominion remained unquenched. Stories of his ferocity, his merciless drive, echoed through the kingdom of Magadha. He was Chandashoka, Ashoka the Fierce, and his gaze was fixed upon Kalinga, a prosperous, independent kingdom resisting his might. The year was 261 BCE. Ashoka desired Kalinga not just for its strategic location, but as a testament to his absolute power, a final jewel in his imperial crown. His armies, a crushing wave of human might, numbering hundreds of thousands, marched towards Kalinga, promising a conflict that would etch itself into the annals of history, a clash so cataclysmic it would change the course of an empire, and indeed, an emperor's soul, forever. The air itself seemed to hum with the tension of impending doom, a silence before the most devastating storm.\n",
            "\n",
            "Middle:\n",
            "The Battle of Kalinga was not merely a battle; it was an apocalypse. For days, the earth trembled under the feet of warring legions, the sky obscured by dust and the cries of men. When the dust settled, the victory was Ashoka's, but at a horrifying price. He walked the battlefield, not as a triumphant conqueror, but as a ghost amidst the ruins of his own making. The ground was soaked crimson, rivers of blood flowed through the plains, carrying away the lives of over 100,000 Kalingans and countless Magadhan soldiers. The air was thick with the stench of death, the silence broken only by the whimpers of the dying and the mournful cries of orphaned children, mothers searching for their sons. Every step Ashoka took was on shattered dreams, on the bodies of the vanquished, on the very foundation of his ruthless ambition. He saw the piles of corpses, the weeping families, the unimaginable suffering, and for the first time, the true cost of his glory dawned upon him. His heart, once cold and unyielding, began to crack, overwhelmed by a profound, agonizing remorse. The grand triumph tasted like ash, and the vision of his magnificent empire was marred by the endless expanse of human misery.\n",
            "\n",
            "End:\n",
            "In that moment, amidst the devastation, something profound shifted within Ashoka. The iron-willed conqueror crumbled, giving way to a seeker of peace. The sight of Kalinga's desolation became his turning point, a spiritual awakening. From Chandashoka, the Fierce, he transformed into Dharmashoka, Ashoka the Pious. He embraced Buddhism, not just as a faith, but as a guiding principle for his entire empire. He renounced war and conquest, dedicating his life to spreading the tenets of non-violence (ahimsa), compassion, and righteousness (dharma). He sent emissaries of peace, not armies, across Asia, inscribing his newfound principles on rock edicts and pillars throughout his vast dominion, urging his subjects to live by kindness and mutual respect. He built stupas and viharas, patronized Buddhist monks, and established hospitals for both humans and animals. Ashoka, once the most feared emperor, became the embodiment of peace, his reign marking a golden age of moral governance. His legacy endures not through the territories he conquered, but through the unparalleled spiritual transformation that brought an era of peace and enlightenment, proving that true power lies not in the sword, but in the unwavering pursuit of compassion and wisdom.\u001b[00m\n",
            "\n",
            "\n"
          ]
        }
      ]
    },
    {
      "cell_type": "code",
      "source": [
        "print(result)"
      ],
      "metadata": {
        "colab": {
          "base_uri": "https://localhost:8080/"
        },
        "id": "HB91fa7BXULb",
        "outputId": "87a714f5-6e4a-47e5-cc89-a4fee410cce2"
      },
      "execution_count": 74,
      "outputs": [
        {
          "output_type": "stream",
          "name": "stdout",
          "text": [
            "Title: The Emperor's Conversion: Ashoka and the Tide of Blood\n",
            "\n",
            "Beginning:\n",
            "In the heart of ancient India, a shadow stretched across the land, cast by the ambition of Emperor Ashoka. He was a force of nature, a whirlwind of conquest, his empire already vast, yet his hunger for dominion remained unquenched. Stories of his ferocity, his merciless drive, echoed through the kingdom of Magadha. He was Chandashoka, Ashoka the Fierce, and his gaze was fixed upon Kalinga, a prosperous, independent kingdom resisting his might. The year was 261 BCE. Ashoka desired Kalinga not just for its strategic location, but as a testament to his absolute power, a final jewel in his imperial crown. His armies, a crushing wave of human might, numbering hundreds of thousands, marched towards Kalinga, promising a conflict that would etch itself into the annals of history, a clash so cataclysmic it would change the course of an empire, and indeed, an emperor's soul, forever. The air itself seemed to hum with the tension of impending doom, a silence before the most devastating storm.\n",
            "\n",
            "Middle:\n",
            "The Battle of Kalinga was not merely a battle; it was an apocalypse. For days, the earth trembled under the feet of warring legions, the sky obscured by dust and the cries of men. When the dust settled, the victory was Ashoka's, but at a horrifying price. He walked the battlefield, not as a triumphant conqueror, but as a ghost amidst the ruins of his own making. The ground was soaked crimson, rivers of blood flowed through the plains, carrying away the lives of over 100,000 Kalingans and countless Magadhan soldiers. The air was thick with the stench of death, the silence broken only by the whimpers of the dying and the mournful cries of orphaned children, mothers searching for their sons. Every step Ashoka took was on shattered dreams, on the bodies of the vanquished, on the very foundation of his ruthless ambition. He saw the piles of corpses, the weeping families, the unimaginable suffering, and for the first time, the true cost of his glory dawned upon him. His heart, once cold and unyielding, began to crack, overwhelmed by a profound, agonizing remorse. The grand triumph tasted like ash, and the vision of his magnificent empire was marred by the endless expanse of human misery.\n",
            "\n",
            "End:\n",
            "In that moment, amidst the devastation, something profound shifted within Ashoka. The iron-willed conqueror crumbled, giving way to a seeker of peace. The sight of Kalinga's desolation became his turning point, a spiritual awakening. From Chandashoka, the Fierce, he transformed into Dharmashoka, Ashoka the Pious. He embraced Buddhism, not just as a faith, but as a guiding principle for his entire empire. He renounced war and conquest, dedicating his life to spreading the tenets of non-violence (ahimsa), compassion, and righteousness (dharma). He sent emissaries of peace, not armies, across Asia, inscribing his newfound principles on rock edicts and pillars throughout his vast dominion, urging his subjects to live by kindness and mutual respect. He built stupas and viharas, patronized Buddhist monks, and established hospitals for both humans and animals. Ashoka, once the most feared emperor, became the embodiment of peace, his reign marking a golden age of moral governance. His legacy endures not through the territories he conquered, but through the unparalleled spiritual transformation that brought an era of peace and enlightenment, proving that true power lies not in the sword, but in the unwavering pursuit of compassion and wisdom.\n"
          ]
        }
      ]
    },
    {
      "cell_type": "code",
      "source": [],
      "metadata": {
        "id": "WkDt1Ip9G6iV"
      },
      "execution_count": null,
      "outputs": []
    },
    {
      "cell_type": "code",
      "source": [],
      "metadata": {
        "id": "pE8-k8GGJbM7"
      },
      "execution_count": null,
      "outputs": []
    }
  ]
}